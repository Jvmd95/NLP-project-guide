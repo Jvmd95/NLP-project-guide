{
 "cells": [
  {
   "cell_type": "code",
   "execution_count": 1,
   "metadata": {},
   "outputs": [],
   "source": [
    "import sqlite3 \n",
    "import pandas as pd\n",
    "import numpy as np\n",
    "from unidecode import unidecode #unidecode converts emojis into text. Avoids encoding problems."
   ]
  },
  {
   "cell_type": "markdown",
   "metadata": {},
   "source": [
    "### Pandas dataframe from a SQL file"
   ]
  },
  {
   "cell_type": "code",
   "execution_count": 2,
   "metadata": {},
   "outputs": [],
   "source": [
    "conn = sqlite3.connect(\"nlp.sqlite\",check_same_thread=False)\n",
    "c = conn.cursor()"
   ]
  },
  {
   "cell_type": "code",
   "execution_count": 3,
   "metadata": {},
   "outputs": [
    {
     "data": {
      "text/html": [
       "<div>\n",
       "<style scoped>\n",
       "    .dataframe tbody tr th:only-of-type {\n",
       "        vertical-align: middle;\n",
       "    }\n",
       "\n",
       "    .dataframe tbody tr th {\n",
       "        vertical-align: top;\n",
       "    }\n",
       "\n",
       "    .dataframe thead th {\n",
       "        text-align: right;\n",
       "    }\n",
       "</style>\n",
       "<table border=\"1\" class=\"dataframe\">\n",
       "  <thead>\n",
       "    <tr style=\"text-align: right;\">\n",
       "      <th></th>\n",
       "      <th>timestamp</th>\n",
       "      <th>retweet</th>\n",
       "      <th>quote</th>\n",
       "      <th>quoted_text</th>\n",
       "      <th>tweet</th>\n",
       "    </tr>\n",
       "  </thead>\n",
       "  <tbody>\n",
       "    <tr>\n",
       "      <th>0</th>\n",
       "      <td>1.587906e+12</td>\n",
       "      <td>1.0</td>\n",
       "      <td>0.0</td>\n",
       "      <td></td>\n",
       "      <td>RT @dwiebe99: @TVietor08 @IvankaTrump Let me g...</td>\n",
       "    </tr>\n",
       "    <tr>\n",
       "      <th>1</th>\n",
       "      <td>1.587906e+12</td>\n",
       "      <td>1.0</td>\n",
       "      <td>0.0</td>\n",
       "      <td></td>\n",
       "      <td>RT @w_terrence: Happy Birthday @FLOTUS Melania...</td>\n",
       "    </tr>\n",
       "    <tr>\n",
       "      <th>2</th>\n",
       "      <td>1.587906e+12</td>\n",
       "      <td>1.0</td>\n",
       "      <td>1.0</td>\n",
       "      <td>N. Korea Dictator Kim Jong-un Reportedly Dead ...</td>\n",
       "      <td>RT @Sotnas92: Donald Trump a l’enterrement: ht...</td>\n",
       "    </tr>\n",
       "    <tr>\n",
       "      <th>3</th>\n",
       "      <td>1.587906e+12</td>\n",
       "      <td>1.0</td>\n",
       "      <td>0.0</td>\n",
       "      <td></td>\n",
       "      <td>RT @kylegriffin1: Republicans were taken aback...</td>\n",
       "    </tr>\n",
       "    <tr>\n",
       "      <th>4</th>\n",
       "      <td>1.587906e+12</td>\n",
       "      <td>0.0</td>\n",
       "      <td>0.0</td>\n",
       "      <td></td>\n",
       "      <td>@Mankind123456 @RomainBurrel Vous parlez de Tr...</td>\n",
       "    </tr>\n",
       "    <tr>\n",
       "      <th>...</th>\n",
       "      <td>...</td>\n",
       "      <td>...</td>\n",
       "      <td>...</td>\n",
       "      <td>...</td>\n",
       "      <td>...</td>\n",
       "    </tr>\n",
       "    <tr>\n",
       "      <th>149563</th>\n",
       "      <td>1.587870e+12</td>\n",
       "      <td>0.0</td>\n",
       "      <td>0.0</td>\n",
       "      <td></td>\n",
       "      <td>@ViceroyChicken @vadimnewquist @AubinMagnus @V...</td>\n",
       "    </tr>\n",
       "    <tr>\n",
       "      <th>149564</th>\n",
       "      <td>1.587870e+12</td>\n",
       "      <td>1.0</td>\n",
       "      <td>0.0</td>\n",
       "      <td></td>\n",
       "      <td>RT @COsweda: It's GENUINELY true:\\n\\nNo matter...</td>\n",
       "    </tr>\n",
       "    <tr>\n",
       "      <th>149565</th>\n",
       "      <td>1.587870e+12</td>\n",
       "      <td>0.0</td>\n",
       "      <td>0.0</td>\n",
       "      <td></td>\n",
       "      <td>Opinion | Trump’s efforts to bring out the wor...</td>\n",
       "    </tr>\n",
       "    <tr>\n",
       "      <th>149566</th>\n",
       "      <td>1.587870e+12</td>\n",
       "      <td>0.0</td>\n",
       "      <td>1.0</td>\n",
       "      <td>There has been an instant spike in ER visits o...</td>\n",
       "      <td>MD?</td>\n",
       "    </tr>\n",
       "    <tr>\n",
       "      <th>149567</th>\n",
       "      <td>1.587870e+12</td>\n",
       "      <td>1.0</td>\n",
       "      <td>0.0</td>\n",
       "      <td></td>\n",
       "      <td>RT @davidfrum: Oh right. Because President Zel...</td>\n",
       "    </tr>\n",
       "  </tbody>\n",
       "</table>\n",
       "<p>149568 rows × 5 columns</p>\n",
       "</div>"
      ],
      "text/plain": [
       "           timestamp  retweet  quote  \\\n",
       "0       1.587906e+12      1.0    0.0   \n",
       "1       1.587906e+12      1.0    0.0   \n",
       "2       1.587906e+12      1.0    1.0   \n",
       "3       1.587906e+12      1.0    0.0   \n",
       "4       1.587906e+12      0.0    0.0   \n",
       "...              ...      ...    ...   \n",
       "149563  1.587870e+12      0.0    0.0   \n",
       "149564  1.587870e+12      1.0    0.0   \n",
       "149565  1.587870e+12      0.0    0.0   \n",
       "149566  1.587870e+12      0.0    1.0   \n",
       "149567  1.587870e+12      1.0    0.0   \n",
       "\n",
       "                                              quoted_text  \\\n",
       "0                                                           \n",
       "1                                                           \n",
       "2       N. Korea Dictator Kim Jong-un Reportedly Dead ...   \n",
       "3                                                           \n",
       "4                                                           \n",
       "...                                                   ...   \n",
       "149563                                                      \n",
       "149564                                                      \n",
       "149565                                                      \n",
       "149566  There has been an instant spike in ER visits o...   \n",
       "149567                                                      \n",
       "\n",
       "                                                    tweet  \n",
       "0       RT @dwiebe99: @TVietor08 @IvankaTrump Let me g...  \n",
       "1       RT @w_terrence: Happy Birthday @FLOTUS Melania...  \n",
       "2       RT @Sotnas92: Donald Trump a l’enterrement: ht...  \n",
       "3       RT @kylegriffin1: Republicans were taken aback...  \n",
       "4       @Mankind123456 @RomainBurrel Vous parlez de Tr...  \n",
       "...                                                   ...  \n",
       "149563  @ViceroyChicken @vadimnewquist @AubinMagnus @V...  \n",
       "149564  RT @COsweda: It's GENUINELY true:\\n\\nNo matter...  \n",
       "149565  Opinion | Trump’s efforts to bring out the wor...  \n",
       "149566                                                MD?  \n",
       "149567  RT @davidfrum: Oh right. Because President Zel...  \n",
       "\n",
       "[149568 rows x 5 columns]"
      ]
     },
     "execution_count": 3,
     "metadata": {},
     "output_type": "execute_result"
    }
   ],
   "source": [
    "sql = '''select * from trump \n",
    "                order by timestamp desc'''\n",
    "    \n",
    "df = pd.read_sql(sql, conn)"
   ]
  },
  {
   "cell_type": "markdown",
   "metadata": {},
   "source": [
    "### Clean data"
   ]
  },
  {
   "cell_type": "code",
   "execution_count": 4,
   "metadata": {},
   "outputs": [],
   "source": [
    "df = df[df['retweet'] == 0] #No RT´s"
   ]
  },
  {
   "cell_type": "code",
   "execution_count": 6,
   "metadata": {},
   "outputs": [],
   "source": [
    "df = df.drop(['timestamp','retweet','quote'],axis=1) #Drop unnecessary columns"
   ]
  },
  {
   "cell_type": "markdown",
   "metadata": {},
   "source": [
    "I will create another dataframe with the quoted_text only to concatenate to our tweet column, expanding the data pool."
   ]
  },
  {
   "cell_type": "code",
   "execution_count": 8,
   "metadata": {},
   "outputs": [],
   "source": [
    "qt = df.copy()"
   ]
  },
  {
   "cell_type": "code",
   "execution_count": 9,
   "metadata": {},
   "outputs": [],
   "source": [
    "qt['quoted_text'].replace('', np.nan, inplace=True) #Converting blank rows to null values"
   ]
  },
  {
   "cell_type": "code",
   "execution_count": 10,
   "metadata": {},
   "outputs": [],
   "source": [
    "qt.dropna(subset=['quoted_text'], inplace=True) #Dropping null values"
   ]
  },
  {
   "cell_type": "code",
   "execution_count": 12,
   "metadata": {},
   "outputs": [],
   "source": [
    "qt = qt.drop('tweet',axis=1)"
   ]
  },
  {
   "cell_type": "code",
   "execution_count": 15,
   "metadata": {},
   "outputs": [],
   "source": [
    "df = df.drop('quoted_text',axis=1)"
   ]
  },
  {
   "cell_type": "code",
   "execution_count": 16,
   "metadata": {},
   "outputs": [],
   "source": [
    "qt = qt.rename(columns={\"quoted_text\": \"tweet\"})"
   ]
  },
  {
   "cell_type": "code",
   "execution_count": 17,
   "metadata": {},
   "outputs": [],
   "source": [
    "df = pd.concat([df, qt],ignore_index =True) #Concat both dataframes"
   ]
  },
  {
   "cell_type": "code",
   "execution_count": 18,
   "metadata": {},
   "outputs": [
    {
     "data": {
      "text/html": [
       "<div>\n",
       "<style scoped>\n",
       "    .dataframe tbody tr th:only-of-type {\n",
       "        vertical-align: middle;\n",
       "    }\n",
       "\n",
       "    .dataframe tbody tr th {\n",
       "        vertical-align: top;\n",
       "    }\n",
       "\n",
       "    .dataframe thead th {\n",
       "        text-align: right;\n",
       "    }\n",
       "</style>\n",
       "<table border=\"1\" class=\"dataframe\">\n",
       "  <thead>\n",
       "    <tr style=\"text-align: right;\">\n",
       "      <th></th>\n",
       "      <th>tweet</th>\n",
       "    </tr>\n",
       "  </thead>\n",
       "  <tbody>\n",
       "    <tr>\n",
       "      <th>0</th>\n",
       "      <td>@Mankind123456 @RomainBurrel Vous parlez de Tr...</td>\n",
       "    </tr>\n",
       "    <tr>\n",
       "      <th>1</th>\n",
       "      <td>@tedcruz Do you believe that trump telling peo...</td>\n",
       "    </tr>\n",
       "    <tr>\n",
       "      <th>2</th>\n",
       "      <td>@jjwasin @MikeRalph62 @Bitzy1221 @DonaldJTrump...</td>\n",
       "    </tr>\n",
       "    <tr>\n",
       "      <th>3</th>\n",
       "      <td>@Wct1964 @donnia68 @RetmarinemsgtM @BeingBekka...</td>\n",
       "    </tr>\n",
       "    <tr>\n",
       "      <th>4</th>\n",
       "      <td>@washingtonpost CNN is Fake news,and Trump is ...</td>\n",
       "    </tr>\n",
       "    <tr>\n",
       "      <th>...</th>\n",
       "      <td>...</td>\n",
       "    </tr>\n",
       "    <tr>\n",
       "      <th>49155</th>\n",
       "      <td>WTP will be out in force on Nov. 3rd, 2020 and...</td>\n",
       "    </tr>\n",
       "    <tr>\n",
       "      <th>49156</th>\n",
       "      <td>Em quase todos os momentos, Donald Trump tomou...</td>\n",
       "    </tr>\n",
       "    <tr>\n",
       "      <th>49157</th>\n",
       "      <td>IM NOT FUCKING KIDDING YOU WHEN I TELL YOU.......</td>\n",
       "    </tr>\n",
       "    <tr>\n",
       "      <th>49158</th>\n",
       "      <td>Donald Trump’s suggestion about disinfectant w...</td>\n",
       "    </tr>\n",
       "    <tr>\n",
       "      <th>49159</th>\n",
       "      <td>There has been an instant spike in ER visits o...</td>\n",
       "    </tr>\n",
       "  </tbody>\n",
       "</table>\n",
       "<p>49160 rows × 1 columns</p>\n",
       "</div>"
      ],
      "text/plain": [
       "                                                   tweet\n",
       "0      @Mankind123456 @RomainBurrel Vous parlez de Tr...\n",
       "1      @tedcruz Do you believe that trump telling peo...\n",
       "2      @jjwasin @MikeRalph62 @Bitzy1221 @DonaldJTrump...\n",
       "3      @Wct1964 @donnia68 @RetmarinemsgtM @BeingBekka...\n",
       "4      @washingtonpost CNN is Fake news,and Trump is ...\n",
       "...                                                  ...\n",
       "49155  WTP will be out in force on Nov. 3rd, 2020 and...\n",
       "49156  Em quase todos os momentos, Donald Trump tomou...\n",
       "49157  IM NOT FUCKING KIDDING YOU WHEN I TELL YOU.......\n",
       "49158  Donald Trump’s suggestion about disinfectant w...\n",
       "49159  There has been an instant spike in ER visits o...\n",
       "\n",
       "[49160 rows x 1 columns]"
      ]
     },
     "execution_count": 18,
     "metadata": {},
     "output_type": "execute_result"
    }
   ],
   "source": [
    "df"
   ]
  },
  {
   "cell_type": "markdown",
   "metadata": {},
   "source": [
    "11k new tweets\n",
    "\n",
    "Now we need to clean the tweets:\n",
    "\n",
    "- Dropping mentions, they dont add value to NLP tasks. Another option is to replace them with a tag. Regex for mentions incluided\n",
    "\n",
    "- Removing whitespaces from the beggining\n",
    "\n",
    "- Removing new line to avoid problem when converting to .csv\n",
    "\n",
    "- Removing , to convert to .csv\n",
    "\n",
    "- Converting white spaces to null and dropping them"
   ]
  },
  {
   "cell_type": "code",
   "execution_count": 19,
   "metadata": {},
   "outputs": [
    {
     "data": {
      "text/plain": [
       "tweet    183\n",
       "dtype: int64"
      ]
     },
     "execution_count": 19,
     "metadata": {},
     "output_type": "execute_result"
    }
   ],
   "source": [
    "df['tweet'] = df['tweet'].str.replace(r\"(?<=^|(?<=[^a-zA-Z0-9-_\\.]))@([A-Za-z]+[A-Za-z0-9-_]+)\",\"\", regex=True)\n",
    "df['tweet'] = df['tweet'].str.replace(r\"^\\s+\",\"\", regex=True)\n",
    "df = df.replace(r'\\n',' ', regex=True)\n",
    "df = df.replace(r\",\",\"\", regex=True)\n",
    "df['tweet'].replace('', np.nan, inplace=True)\n",
    "df.isnull().sum()"
   ]
  },
  {
   "cell_type": "code",
   "execution_count": 20,
   "metadata": {},
   "outputs": [],
   "source": [
    "df = df.dropna()"
   ]
  },
  {
   "cell_type": "code",
   "execution_count": 21,
   "metadata": {},
   "outputs": [],
   "source": [
    "df = df.rename(columns={\"tweet\": \"reviewText\"})"
   ]
  },
  {
   "cell_type": "code",
   "execution_count": 22,
   "metadata": {},
   "outputs": [],
   "source": [
    "df['reviewText'] = df['reviewText'].apply(unidecode) #Applies unidecode to all tweets"
   ]
  },
  {
   "cell_type": "code",
   "execution_count": 23,
   "metadata": {},
   "outputs": [],
   "source": [
    "#Again deleting new lines and commas, in case unidecode created new ones\n",
    "df = df.replace(r'\\n',' ', regex=True)\n",
    "df = df.replace(r\",\",\"\", regex=True)"
   ]
  },
  {
   "cell_type": "code",
   "execution_count": 24,
   "metadata": {},
   "outputs": [],
   "source": [
    "#Saving into a csv file\n",
    "df.to_csv('twitter.csv',index=False)"
   ]
  }
 ],
 "metadata": {
  "kernelspec": {
   "display_name": "Python 3",
   "language": "python",
   "name": "python3"
  },
  "language_info": {
   "codemirror_mode": {
    "name": "ipython",
    "version": 3
   },
   "file_extension": ".py",
   "mimetype": "text/x-python",
   "name": "python",
   "nbconvert_exporter": "python",
   "pygments_lexer": "ipython3",
   "version": "3.7.6"
  }
 },
 "nbformat": 4,
 "nbformat_minor": 2
}
